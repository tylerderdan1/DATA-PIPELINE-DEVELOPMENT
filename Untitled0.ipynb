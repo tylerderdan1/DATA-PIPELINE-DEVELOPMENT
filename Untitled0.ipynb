{
  "nbformat": 4,
  "nbformat_minor": 0,
  "metadata": {
    "colab": {
      "provenance": []
    },
    "kernelspec": {
      "name": "python3",
      "display_name": "Python 3"
    },
    "language_info": {
      "name": "python"
    }
  },
  "cells": [
    {
      "cell_type": "code",
      "execution_count": 1,
      "metadata": {
        "colab": {
          "base_uri": "https://localhost:8080/"
        },
        "id": "2d8f-rdbMESY",
        "outputId": "fff33f65-03c2-4b18-ded6-5698298c3d64"
      },
      "outputs": [
        {
          "output_type": "stream",
          "name": "stdout",
          "text": [
            "Raw Data:\n",
            "      name   age  gender   salary\n",
            "0    Alice  25.0  Female  50000.0\n",
            "1      Bob  30.0    Male  60000.0\n",
            "2  Charlie  35.0    Male      NaN\n",
            "3    David   NaN  Female  52000.0\n",
            "\n",
            "Transformed Data:\n",
            "    name  age  gender  salary\n",
            "0  Alice -1.0       1    -1.0\n",
            "1    Bob  1.0       0     1.0\n",
            "\n",
            "Processed data saved to 'processed_data.csv'\n"
          ]
        }
      ],
      "source": [
        "# ETL Pipeline - Internship Task 1\n",
        "# Author: Manikandan\n",
        "# Description: Extract, Transform, Load process using Pandas and Scikit-learn\n",
        "\n",
        "# --- Import required libraries ---\n",
        "import pandas as pd\n",
        "from sklearn.preprocessing import StandardScaler\n",
        "\n",
        "# --- Step 1: Extract ---\n",
        "# Load raw data (you can replace this with your own CSV file)\n",
        "# Sample data creation (only use this if no file is given)\n",
        "data = {\n",
        "    'name': ['Alice', 'Bob', 'Charlie', 'David'],\n",
        "    'age': [25, 30, 35, None],\n",
        "    'gender': ['Female', 'Male', 'Male', 'Female'],\n",
        "    'salary': [50000, 60000, None, 52000]\n",
        "}\n",
        "\n",
        "df = pd.DataFrame(data)\n",
        "# Uncomment below line if reading from a file\n",
        "# df = pd.read_csv('your_raw_data.csv')\n",
        "\n",
        "print(\"Raw Data:\")\n",
        "print(df)\n",
        "\n",
        "# --- Step 2: Transform ---\n",
        "# 1. Drop rows with missing values\n",
        "df = df.dropna()\n",
        "\n",
        "# 2. Convert gender to numerical\n",
        "df['gender'] = df['gender'].map({'Male': 0, 'Female': 1})\n",
        "\n",
        "# 3. Scale numeric columns\n",
        "scaler = StandardScaler()\n",
        "df[['age', 'salary']] = scaler.fit_transform(df[['age', 'salary']])\n",
        "\n",
        "print(\"\\nTransformed Data:\")\n",
        "print(df)\n",
        "\n",
        "# --- Step 3: Load ---\n",
        "# Save to processed file\n",
        "df.to_csv('processed_data.csv', index=False)\n",
        "print(\"\\nProcessed data saved to 'processed_data.csv'\")\n"
      ]
    }
  ]
}